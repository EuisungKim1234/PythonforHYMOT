{
 "cells": [
  {
   "cell_type": "markdown",
   "metadata": {},
   "source": [
    "### 2023244468 김의성"
   ]
  },
  {
   "cell_type": "markdown",
   "metadata": {
    "id": "Zmu4VyiNOsOE"
   },
   "source": [
    "<h2>Quiz on Functions</h2>"
   ]
  },
  {
   "cell_type": "markdown",
   "metadata": {
    "id": "3WHDrF-AOsOF"
   },
   "source": [
    "Come up with a function that divides the first input by the second input:"
   ]
  },
  {
   "cell_type": "code",
   "execution_count": 8,
   "metadata": {
    "id": "EhhJRbDgOsOF"
   },
   "outputs": [
    {
     "name": "stdout",
     "output_type": "stream",
     "text": [
      "infinite\n",
      "1.0\n"
     ]
    }
   ],
   "source": [
    "# Write your code below and press Shift+Enter to execute\n",
    "\n",
    "def divideNum(a,b):\n",
    "    if b == 0:\n",
    "        print(\"infinite\")\n",
    "        return\n",
    "    \n",
    "    result = a/b\n",
    "    return print(result)\n",
    "\n",
    "divideNum(1,0)\n",
    "divideNum(3,3)"
   ]
  },
  {
   "cell_type": "markdown",
   "metadata": {
    "id": "POUcqmyqOsOI"
   },
   "source": [
    "<hr>"
   ]
  },
  {
   "cell_type": "markdown",
   "metadata": {
    "id": "bzZ_DiJFOsOI"
   },
   "source": [
    "Use the function <code>con</code> for the following question."
   ]
  },
  {
   "cell_type": "code",
   "execution_count": 9,
   "metadata": {
    "id": "BqJ8lgVqOsOI"
   },
   "outputs": [],
   "source": [
    "# Use the con function for the following question\n",
    "\n",
    "def con(a, b):\n",
    "    return(a + b)"
   ]
  },
  {
   "cell_type": "markdown",
   "metadata": {
    "id": "HovbxItzOsOL"
   },
   "source": [
    "Can the <code>con</code> function we defined before be used to add to integers or strings?"
   ]
  },
  {
   "cell_type": "code",
   "execution_count": 13,
   "metadata": {
    "id": "bbQ3MsrDOsOL"
   },
   "outputs": [
    {
     "data": {
      "text/plain": [
       "4"
      ]
     },
     "execution_count": 13,
     "metadata": {},
     "output_type": "execute_result"
    }
   ],
   "source": [
    "# Write your code below and press Shift+Enter to execute\n",
    "\n",
    "# Euisung wrote:\n",
    "# We can make function with hint by the way \"python annotation\"I\n",
    "# like this\n",
    "# def con(a:int, b:int) -> int:\n",
    "#    return a+b\n",
    "# It does not work as \"checking\" but state as\"hint\"\n",
    "\n",
    "# Anyway it is working:\n",
    "con(2,2)"
   ]
  },
  {
   "cell_type": "markdown",
   "metadata": {
    "id": "-j-_N7O0OsON"
   },
   "source": [
    "<hr>"
   ]
  },
  {
   "cell_type": "markdown",
   "metadata": {
    "id": "UhudXzCHOsON"
   },
   "source": [
    "Can the <code>con</code> function we defined before be used to concentrate a list or tuple?"
   ]
  },
  {
   "cell_type": "code",
   "execution_count": 15,
   "metadata": {
    "id": "dhmsJzmLOsOO"
   },
   "outputs": [
    {
     "data": {
      "text/plain": [
       "[1, 2, 'red', 'blue']"
      ]
     },
     "execution_count": 15,
     "metadata": {},
     "output_type": "execute_result"
    }
   ],
   "source": [
    "# Write your code below and press Shift+Enter to execute\n",
    "\n",
    "list1 = [1, 2]\n",
    "list2 = ['red', 'blue']\n",
    "con(list1, list2)"
   ]
  },
  {
   "cell_type": "markdown",
   "metadata": {
    "id": "FOTJq_d0OsOR"
   },
   "source": [
    "<hr>\n",
    "<h2>The last exercise!</h2>\n",
    "<p>Congratulations, you have completed your first lesson and hands-on lab in Python. However, there is one more thing you need to do. The Data Science community encourages sharing work. The best way to share and showcase your work is to share it on GitHub. By sharing your notebook on GitHub you are not only building your reputation with fellow data scientists, but you can also show it off when applying for a job. Even though this was your first piece of work, it is never too early to start building good habits. Please submit all your exercises to Github & let the traces in our LMS, so for me to access your work\n",
    "<hr>"
   ]
  },
  {
   "cell_type": "markdown",
   "metadata": {
    "id": "C54u3pyGOsOT"
   },
   "source": [
    "<hr>"
   ]
  },
  {
   "cell_type": "markdown",
   "metadata": {
    "id": "cWnKwYZpOsOV"
   },
   "source": [
    "<p>Copyright &copy; 2023 RYU HOKYOUNG based on 2018 IBM Developer Skills Network. This notebook and its source code are released under the terms of the <a href=\"https://cognitiveclass.ai/mit-license/\">MIT License</a>.</p>"
   ]
  }
 ],
 "metadata": {
  "colab": {
   "provenance": []
  },
  "kernelspec": {
   "display_name": "Python 3",
   "language": "python",
   "name": "python3"
  },
  "language_info": {
   "codemirror_mode": {
    "name": "ipython",
    "version": 3
   },
   "file_extension": ".py",
   "mimetype": "text/x-python",
   "name": "python",
   "nbconvert_exporter": "python",
   "pygments_lexer": "ipython3",
   "version": "3.8.5"
  }
 },
 "nbformat": 4,
 "nbformat_minor": 1
}
