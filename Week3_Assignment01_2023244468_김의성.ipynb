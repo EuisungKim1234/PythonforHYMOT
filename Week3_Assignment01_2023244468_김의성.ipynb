{
 "cells": [
  {
   "cell_type": "markdown",
   "metadata": {},
   "source": [
    "### 2023244468 김의성"
   ]
  },
  {
   "cell_type": "markdown",
   "metadata": {
    "id": "WfaOSGtXTSkd"
   },
   "source": [
    "<h2 id=\"quiz\">Quiz on Tuples</h2>"
   ]
  },
  {
   "cell_type": "markdown",
   "metadata": {
    "id": "PCG7vENSTSkd"
   },
   "source": [
    "Consider the following tuple:"
   ]
  },
  {
   "cell_type": "code",
   "execution_count": 1,
   "metadata": {
    "colab": {
     "base_uri": "https://localhost:8080/"
    },
    "id": "60-6rzdhTSke",
    "outputId": "5fc2928c-ba40-4a20-fca4-131d4ca803b7"
   },
   "outputs": [
    {
     "data": {
      "text/plain": [
       "('pop',\n",
       " 'rock',\n",
       " 'soul',\n",
       " 'hard rock',\n",
       " 'soft rock',\n",
       " 'R&B',\n",
       " 'progressive rock',\n",
       " 'disco')"
      ]
     },
     "execution_count": 1,
     "metadata": {},
     "output_type": "execute_result"
    }
   ],
   "source": [
    "# sample tuple\n",
    "\n",
    "genres_tuple = (\"pop\", \"rock\", \"soul\", \"hard rock\", \"soft rock\", \\\n",
    "                \"R&B\", \"progressive rock\", \"disco\") \n",
    "genres_tuple"
   ]
  },
  {
   "cell_type": "markdown",
   "metadata": {
    "id": "g5pE31RtTSke"
   },
   "source": [
    "Find the length of the tuple, <code>genres_tuple</code>:"
   ]
  },
  {
   "cell_type": "code",
   "execution_count": 2,
   "metadata": {
    "id": "CjPoP2NlTSke"
   },
   "outputs": [
    {
     "data": {
      "text/plain": [
       "8"
      ]
     },
     "execution_count": 2,
     "metadata": {},
     "output_type": "execute_result"
    }
   ],
   "source": [
    "# Write your code below and press Shift+Enter to execute\n",
    "\n",
    "len(genres_tuple)"
   ]
  },
  {
   "cell_type": "markdown",
   "metadata": {
    "id": "3ZtRR3P8TSke"
   },
   "source": [
    "<img src=\"https://s3-api.us-geo.objectstorage.softlayer.net/cf-courses-data/CognitiveClass/PY0101EN/Chapter%202/Images/TuplesQuiz.png\" width=\"1100\" align=\"center\">"
   ]
  },
  {
   "cell_type": "markdown",
   "metadata": {
    "id": "nxGKq_zXTSke"
   },
   "source": [
    "Access the element, with respect to index 3: "
   ]
  },
  {
   "cell_type": "code",
   "execution_count": 3,
   "metadata": {
    "id": "dDQOgOryTSke"
   },
   "outputs": [
    {
     "data": {
      "text/plain": [
       "'hard rock'"
      ]
     },
     "execution_count": 3,
     "metadata": {},
     "output_type": "execute_result"
    }
   ],
   "source": [
    "# Write your code below and press Shift+Enter to execute\n",
    "\n",
    "genres_tuple[3]"
   ]
  },
  {
   "cell_type": "markdown",
   "metadata": {
    "id": "MgCTKy1DTSke"
   },
   "source": [
    "Use slicing to obtain indexes 3, 4 and 5:"
   ]
  },
  {
   "cell_type": "code",
   "execution_count": 4,
   "metadata": {
    "id": "M52TZCM5TSkf"
   },
   "outputs": [
    {
     "data": {
      "text/plain": [
       "('hard rock', 'soft rock', 'R&B')"
      ]
     },
     "execution_count": 4,
     "metadata": {},
     "output_type": "execute_result"
    }
   ],
   "source": [
    "# Write your code below and press Shift+Enter to execute\n",
    "\n",
    "genres_tuple[3:6]"
   ]
  },
  {
   "cell_type": "markdown",
   "metadata": {
    "id": "2FRQJentTSkf"
   },
   "source": [
    "Find the first two elements of the tuple <code>genres_tuple</code>:"
   ]
  },
  {
   "cell_type": "code",
   "execution_count": 5,
   "metadata": {
    "id": "siRm-jjETSkf"
   },
   "outputs": [
    {
     "data": {
      "text/plain": [
       "('pop', 'rock')"
      ]
     },
     "execution_count": 5,
     "metadata": {},
     "output_type": "execute_result"
    }
   ],
   "source": [
    "# Write your code below and press Shift+Enter to execute\n",
    "\n",
    "genres_tuple[:2]"
   ]
  },
  {
   "cell_type": "markdown",
   "metadata": {
    "id": "lfjDzdWVTSkf"
   },
   "source": [
    "Find the first index of <code>\"disco\"</code>:"
   ]
  },
  {
   "cell_type": "code",
   "execution_count": 7,
   "metadata": {
    "id": "ViKYpk8rTSkf"
   },
   "outputs": [
    {
     "data": {
      "text/plain": [
       "7"
      ]
     },
     "execution_count": 7,
     "metadata": {},
     "output_type": "execute_result"
    }
   ],
   "source": [
    "# Write your code below and press Shift+Enter to execute\n",
    "\n",
    "genres_tuple.index(\"disco\")"
   ]
  },
  {
   "cell_type": "markdown",
   "metadata": {
    "id": "oi9ePenbTSkf"
   },
   "source": [
    "Generate a sorted List from the Tuple <code>C_tuple=(-5, 1, -3)</code>:"
   ]
  },
  {
   "cell_type": "code",
   "execution_count": 8,
   "metadata": {
    "id": "bAs8GFw2TSkf"
   },
   "outputs": [
    {
     "data": {
      "text/plain": [
       "[-5, -3, 1]"
      ]
     },
     "execution_count": 8,
     "metadata": {},
     "output_type": "execute_result"
    }
   ],
   "source": [
    "# Write your code below and press Shift+Enter to execute\n",
    "\n",
    "C_tuple = (-5, 1, -3)\n",
    "\n",
    "sorted_list = sorted(C_tuple)\n",
    "sorted_list"
   ]
  },
  {
   "cell_type": "markdown",
   "metadata": {
    "id": "Tpkd95LlTSkg"
   },
   "source": [
    "<hr>"
   ]
  }
 ],
 "metadata": {
  "colab": {
   "provenance": []
  },
  "kernelspec": {
   "display_name": "Python 3",
   "language": "python",
   "name": "python3"
  },
  "language_info": {
   "codemirror_mode": {
    "name": "ipython",
    "version": 3
   },
   "file_extension": ".py",
   "mimetype": "text/x-python",
   "name": "python",
   "nbconvert_exporter": "python",
   "pygments_lexer": "ipython3",
   "version": "3.8.5"
  }
 },
 "nbformat": 4,
 "nbformat_minor": 1
}
