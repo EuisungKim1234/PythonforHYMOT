{
  "cells": [
    {
      "cell_type": "markdown",
      "source": [
        "Week9 Assignment\n",
        "\n",
        "2023244468 박사1기 김의성"
      ],
      "metadata": {
        "id": "3ClYzYrkASGO"
      }
    },
    {
      "cell_type": "code",
      "execution_count": 1,
      "metadata": {
        "id": "L2-kqcxy6cGr",
        "outputId": "434e102a-8eb3-4c41-8328-41a2178fc6cc",
        "colab": {
          "base_uri": "https://localhost:8080/"
        }
      },
      "outputs": [
        {
          "output_type": "execute_result",
          "data": {
            "text/plain": [
              "[1, 2, 3, 4, 5]"
            ]
          },
          "metadata": {},
          "execution_count": 1
        }
      ],
      "source": [
        "number_list = []\n",
        "number_list.append(1)\n",
        "number_list.append(2)\n",
        "number_list.append(3)\n",
        "number_list.append(4)\n",
        "number_list.append(5)\n",
        "\n",
        "number_list"
      ]
    },
    {
      "cell_type": "code",
      "execution_count": 2,
      "metadata": {
        "id": "XHeCg7cu6cGu",
        "outputId": "ed271aae-3a39-45cb-d8cb-a46a45cd6ed6",
        "colab": {
          "base_uri": "https://localhost:8080/"
        }
      },
      "outputs": [
        {
          "output_type": "execute_result",
          "data": {
            "text/plain": [
              "[1, 2, 3, 4, 5]"
            ]
          },
          "metadata": {},
          "execution_count": 2
        }
      ],
      "source": [
        "number_list = []\n",
        "for number in range(1, 6):\n",
        "    number_list.append(number)\n",
        "    \n",
        "number_list"
      ]
    },
    {
      "cell_type": "code",
      "execution_count": 3,
      "metadata": {
        "id": "cf4OOMIg6cGv",
        "outputId": "2a955fa3-eb4b-4049-e2fb-542d0cf7c0eb",
        "colab": {
          "base_uri": "https://localhost:8080/"
        }
      },
      "outputs": [
        {
          "output_type": "execute_result",
          "data": {
            "text/plain": [
              "[1, 2, 3, 4, 5]"
            ]
          },
          "metadata": {},
          "execution_count": 3
        }
      ],
      "source": [
        "number_list = list(range(1,6))\n",
        "\n",
        "number_list"
      ]
    },
    {
      "cell_type": "code",
      "execution_count": 4,
      "metadata": {
        "id": "hJSDF5Gm6cGw",
        "outputId": "3d99db82-628f-438e-f7ff-af1aabf75ca9",
        "colab": {
          "base_uri": "https://localhost:8080/"
        }
      },
      "outputs": [
        {
          "output_type": "execute_result",
          "data": {
            "text/plain": [
              "[1, 2, 3, 4, 5]"
            ]
          },
          "metadata": {},
          "execution_count": 4
        }
      ],
      "source": [
        "number_list = [number for number in range(1,6)]\n",
        "\n",
        "number_list"
      ]
    },
    {
      "cell_type": "code",
      "execution_count": 5,
      "metadata": {
        "id": "0r-h5-aI6cGw",
        "outputId": "8898eeca-0b34-4106-ff29-a55d10d73b85",
        "colab": {
          "base_uri": "https://localhost:8080/"
        }
      },
      "outputs": [
        {
          "output_type": "execute_result",
          "data": {
            "text/plain": [
              "[0, 1, 2, 3, 4]"
            ]
          },
          "metadata": {},
          "execution_count": 5
        }
      ],
      "source": [
        "number_list = [number-1 for number in range(1,6)]\n",
        "\n",
        "number_list"
      ]
    },
    {
      "cell_type": "code",
      "execution_count": 6,
      "metadata": {
        "id": "vmGQBBaC6cGx",
        "outputId": "49d6f6df-80a8-4977-8dd7-9803b512b7c0",
        "colab": {
          "base_uri": "https://localhost:8080/"
        }
      },
      "outputs": [
        {
          "output_type": "execute_result",
          "data": {
            "text/plain": [
              "[1, 3, 5]"
            ]
          },
          "metadata": {},
          "execution_count": 6
        }
      ],
      "source": [
        "a_list = [number for number in range(1,6) if number%2 == 1]\n",
        "\n",
        "a_list"
      ]
    },
    {
      "cell_type": "code",
      "execution_count": 7,
      "metadata": {
        "id": "g7h5uHn76cGy",
        "outputId": "b138697b-90ff-40fb-a965-909bbbb573be",
        "colab": {
          "base_uri": "https://localhost:8080/"
        }
      },
      "outputs": [
        {
          "output_type": "execute_result",
          "data": {
            "text/plain": [
              "[1, 3, 5]"
            ]
          },
          "metadata": {},
          "execution_count": 7
        }
      ],
      "source": [
        "a_list = []\n",
        "\n",
        "for number in range(1,6):\n",
        "    if number%2 == 1:\n",
        "        a_list.append(number)\n",
        "        \n",
        "a_list"
      ]
    },
    {
      "cell_type": "code",
      "execution_count": 7,
      "metadata": {
        "id": "0Jupeieg6cGz"
      },
      "outputs": [],
      "source": []
    },
    {
      "cell_type": "code",
      "execution_count": 8,
      "metadata": {
        "id": "ajdg2P8a6cG0",
        "outputId": "787e1cf1-11fe-44f7-eba4-848061e3a1f5",
        "colab": {
          "base_uri": "https://localhost:8080/"
        }
      },
      "outputs": [
        {
          "output_type": "execute_result",
          "data": {
            "text/plain": [
              "['i', 'love', 'python', 'soooooo', 'much!!!']"
            ]
          },
          "metadata": {},
          "execution_count": 8
        }
      ],
      "source": [
        "sentence = ['I', 'Love', 'Python', 'Soooooo', 'MUCH!!!']\n",
        "\n",
        "[word.lower() for word in sentence]"
      ]
    },
    {
      "cell_type": "code",
      "execution_count": 9,
      "metadata": {
        "id": "bDVyGqUk6cG1",
        "outputId": "42f56e7f-6997-4208-dc63-256aa42a1667",
        "colab": {
          "base_uri": "https://localhost:8080/"
        }
      },
      "outputs": [
        {
          "output_type": "execute_result",
          "data": {
            "text/plain": [
              "['Soooooo', 'MUCH!!!']"
            ]
          },
          "metadata": {},
          "execution_count": 9
        }
      ],
      "source": [
        "[word for word in sentence if len(word) > 6]"
      ]
    },
    {
      "cell_type": "code",
      "execution_count": 10,
      "metadata": {
        "id": "VbNTjXDz6cG2",
        "outputId": "780786ec-fea5-457a-b666-93d475289902",
        "colab": {
          "base_uri": "https://localhost:8080/"
        }
      },
      "outputs": [
        {
          "output_type": "execute_result",
          "data": {
            "text/plain": [
              "[(0, 0, 0),\n",
              " (1, 1, 1),\n",
              " (2, 4, 8),\n",
              " (3, 9, 27),\n",
              " (4, 16, 64),\n",
              " (5, 25, 125),\n",
              " (6, 36, 216),\n",
              " (7, 49, 343),\n",
              " (8, 64, 512),\n",
              " (9, 81, 729)]"
            ]
          },
          "metadata": {},
          "execution_count": 10
        }
      ],
      "source": [
        "[(x, x**2, x**3) for x in range(10)]"
      ]
    },
    {
      "cell_type": "code",
      "execution_count": 10,
      "metadata": {
        "id": "OR3gwZ3p6cG2"
      },
      "outputs": [],
      "source": []
    },
    {
      "cell_type": "code",
      "execution_count": 11,
      "metadata": {
        "id": "7e5llAGT6cG2",
        "outputId": "b5c7e4ae-c302-4341-b895-23e805271889",
        "colab": {
          "base_uri": "https://localhost:8080/"
        }
      },
      "outputs": [
        {
          "output_type": "stream",
          "name": "stdout",
          "text": [
            "1 1\n",
            "1 2\n",
            "2 1\n",
            "2 2\n",
            "3 1\n",
            "3 2\n"
          ]
        }
      ],
      "source": [
        "rows = range(1,4)\n",
        "cols = range(1,3)\n",
        "for row in rows:\n",
        "    for col in cols:\n",
        "        print(row, col)"
      ]
    },
    {
      "cell_type": "code",
      "execution_count": 12,
      "metadata": {
        "id": "UxVyRoUQ6cG3",
        "outputId": "3430f973-8267-46b3-c218-41d224f5215d",
        "colab": {
          "base_uri": "https://localhost:8080/"
        }
      },
      "outputs": [
        {
          "output_type": "stream",
          "name": "stdout",
          "text": [
            "(1, 1)\n",
            "(1, 2)\n",
            "(2, 1)\n",
            "(2, 2)\n",
            "(3, 1)\n",
            "(3, 2)\n"
          ]
        }
      ],
      "source": [
        "cells = [(row,col) for row in rows for col in cols]\n",
        "for cell in cells:\n",
        "    print(cell)"
      ]
    },
    {
      "cell_type": "code",
      "execution_count": 13,
      "metadata": {
        "id": "McJavbzM6cG3",
        "outputId": "4a3ba15f-e703-4764-f8fb-0d3c501fec94",
        "colab": {
          "base_uri": "https://localhost:8080/"
        }
      },
      "outputs": [
        {
          "output_type": "execute_result",
          "data": {
            "text/plain": [
              "[(1, 0),\n",
              " (2, 0),\n",
              " (2, 1),\n",
              " (3, 0),\n",
              " (3, 1),\n",
              " (3, 2),\n",
              " (4, 0),\n",
              " (4, 1),\n",
              " (4, 2),\n",
              " (4, 3)]"
            ]
          },
          "metadata": {},
          "execution_count": 13
        }
      ],
      "source": [
        "[(i,j) for i in range(5) for j in range(i)]"
      ]
    },
    {
      "cell_type": "code",
      "execution_count": 13,
      "metadata": {
        "id": "M5xjddBv6cG4"
      },
      "outputs": [],
      "source": []
    },
    {
      "cell_type": "code",
      "execution_count": 14,
      "metadata": {
        "id": "GBI9V6hf6cG5",
        "outputId": "d9c779cf-94fd-4ba7-b0c5-05e53c2e9c81",
        "colab": {
          "base_uri": "https://localhost:8080/"
        }
      },
      "outputs": [
        {
          "output_type": "execute_result",
          "data": {
            "text/plain": [
              "{'l': 1, 'e': 2, 't': 2, 'r': 1, 's': 1}"
            ]
          },
          "metadata": {},
          "execution_count": 14
        }
      ],
      "source": [
        "word = 'letters'\n",
        "letter_count = {letter: word.count(letter) for letter in word}\n",
        "\n",
        "letter_count"
      ]
    },
    {
      "cell_type": "code",
      "execution_count": 15,
      "metadata": {
        "id": "5qMR6Ps_6cG5",
        "outputId": "fb48d72c-03d8-4016-897b-d71f450a6ff6",
        "colab": {
          "base_uri": "https://localhost:8080/"
        }
      },
      "outputs": [
        {
          "output_type": "execute_result",
          "data": {
            "text/plain": [
              "{'l': 1, 'e': 2, 's': 1, 'r': 1, 't': 2}"
            ]
          },
          "metadata": {},
          "execution_count": 15
        }
      ],
      "source": [
        "letter_count = {letter: word.count(letter) for letter in set(word)}\n",
        "\n",
        "letter_count"
      ]
    },
    {
      "cell_type": "code",
      "execution_count": 16,
      "metadata": {
        "id": "kUbFtyxd6cG6",
        "outputId": "ee7f2406-3bcc-4dc5-c549-329086a7d682",
        "colab": {
          "base_uri": "https://localhost:8080/"
        }
      },
      "outputs": [
        {
          "output_type": "execute_result",
          "data": {
            "text/plain": [
              "{1, 4}"
            ]
          },
          "metadata": {},
          "execution_count": 16
        }
      ],
      "source": [
        "a_set = {number for number in range(1,6) if number%3 == 1}\n",
        "\n",
        "a_set"
      ]
    },
    {
      "cell_type": "code",
      "execution_count": 18,
      "metadata": {
        "id": "2-33-tJP6cG6",
        "outputId": "2d03a704-8358-4261-d00d-ef167878c4b6",
        "colab": {
          "base_uri": "https://localhost:8080/"
        }
      },
      "outputs": [
        {
          "output_type": "execute_result",
          "data": {
            "text/plain": [
              "3"
            ]
          },
          "metadata": {},
          "execution_count": 18
        }
      ],
      "source": [
        "def sum(a, b):\n",
        "  return a+b\n",
        "\n",
        "sum(1,2)"
      ]
    },
    {
      "cell_type": "code",
      "source": [
        "sum(1.3, 3.1)"
      ],
      "metadata": {
        "id": "f1v3v_4m7YiJ",
        "colab": {
          "base_uri": "https://localhost:8080/"
        },
        "outputId": "568e2ea4-ef5c-4922-e544-f6e6b962a9cd"
      },
      "execution_count": 20,
      "outputs": [
        {
          "output_type": "execute_result",
          "data": {
            "text/plain": [
              "4.4"
            ]
          },
          "metadata": {},
          "execution_count": 20
        }
      ]
    },
    {
      "cell_type": "code",
      "source": [
        "sum('love ', 'pythong')"
      ],
      "metadata": {
        "colab": {
          "base_uri": "https://localhost:8080/",
          "height": 35
        },
        "id": "VsTreCKh9iW3",
        "outputId": "ea5bd7c8-47ef-4756-b5c1-1476c2558d78"
      },
      "execution_count": 22,
      "outputs": [
        {
          "output_type": "execute_result",
          "data": {
            "text/plain": [
              "'love pythong'"
            ],
            "application/vnd.google.colaboratory.intrinsic+json": {
              "type": "string"
            }
          },
          "metadata": {},
          "execution_count": 22
        }
      ]
    },
    {
      "cell_type": "code",
      "source": [
        "days = ['Monday', 'Tuesday', 'Wednesday']\n",
        "fruits = ['banana', 'orange', 'peach']\n",
        "drinks = ['coffee', 'tea', 'beer']\n",
        "desserts = ['tiramisu', 'ice cream', 'pie', 'pudding']\n",
        "\n",
        "for day, fruit, drink, dessert in zip(days, fruits, drinks, desserts):\n",
        "  print(day, \": drink\", drink, \"- eat\", fruit, \"- enjoy\", dessert)"
      ],
      "metadata": {
        "colab": {
          "base_uri": "https://localhost:8080/"
        },
        "id": "wQis9tmn9lEd",
        "outputId": "9d104c13-6c61-43b3-e477-555a79d1e518"
      },
      "execution_count": 23,
      "outputs": [
        {
          "output_type": "stream",
          "name": "stdout",
          "text": [
            "Monday : drink coffee - eat banana - enjoy tiramisu\n",
            "Tuesday : drink tea - eat orange - enjoy ice cream\n",
            "Wednesday : drink beer - eat peach - enjoy pie\n"
          ]
        }
      ]
    },
    {
      "cell_type": "code",
      "source": [
        "english = 'Monday', 'Tuesday', 'Wednesday'\n",
        "french = 'Lundi', 'Mardi', 'Mercredi'\n",
        "\n",
        "list(zip(english, french))"
      ],
      "metadata": {
        "colab": {
          "base_uri": "https://localhost:8080/"
        },
        "id": "djIX6AhA97J3",
        "outputId": "adbc89d3-814e-47e4-c1d3-e1671a9f4709"
      },
      "execution_count": 24,
      "outputs": [
        {
          "output_type": "execute_result",
          "data": {
            "text/plain": [
              "[('Monday', 'Lundi'), ('Tuesday', 'Mardi'), ('Wednesday', 'Mercredi')]"
            ]
          },
          "metadata": {},
          "execution_count": 24
        }
      ]
    },
    {
      "cell_type": "code",
      "source": [
        "dict(zip(english, french))"
      ],
      "metadata": {
        "colab": {
          "base_uri": "https://localhost:8080/"
        },
        "id": "B08ZqcD_-Gz3",
        "outputId": "740ebf5a-5b3e-481a-c848-3f5f7d34d638"
      },
      "execution_count": 25,
      "outputs": [
        {
          "output_type": "execute_result",
          "data": {
            "text/plain": [
              "{'Monday': 'Lundi', 'Tuesday': 'Mardi', 'Wednesday': 'Mercredi'}"
            ]
          },
          "metadata": {},
          "execution_count": 25
        }
      ]
    },
    {
      "cell_type": "code",
      "source": [
        "def menu(wine, entree, dessert):\n",
        "  return {'wine': wine, 'entree': entree, 'dessert': dessert}\n",
        "\n",
        "menu('chardonnay', 'chicken', 'cake')"
      ],
      "metadata": {
        "colab": {
          "base_uri": "https://localhost:8080/"
        },
        "id": "5HOPsuKJ-Ndx",
        "outputId": "30045cb8-dd83-48b7-e644-bb15656bb5ce"
      },
      "execution_count": 26,
      "outputs": [
        {
          "output_type": "execute_result",
          "data": {
            "text/plain": [
              "{'wine': 'chardonnay', 'entree': 'chicken', 'dessert': 'cake'}"
            ]
          },
          "metadata": {},
          "execution_count": 26
        }
      ]
    },
    {
      "cell_type": "code",
      "source": [
        "menu(entree='beef', dessert='bagel', wine='bordeaux')"
      ],
      "metadata": {
        "colab": {
          "base_uri": "https://localhost:8080/"
        },
        "id": "w6Rhv1zg-c-9",
        "outputId": "1c7095fb-26c2-4a10-d3a5-921d7b856cdf"
      },
      "execution_count": 28,
      "outputs": [
        {
          "output_type": "execute_result",
          "data": {
            "text/plain": [
              "{'wine': 'bordeaux', 'entree': 'beef', 'dessert': 'bagel'}"
            ]
          },
          "metadata": {},
          "execution_count": 28
        }
      ]
    },
    {
      "cell_type": "code",
      "source": [
        "menu('frontenac', dessert='flan', entree='fish')"
      ],
      "metadata": {
        "colab": {
          "base_uri": "https://localhost:8080/"
        },
        "id": "sTiNDaQl-nd6",
        "outputId": "e22cf592-292a-45f1-d62f-64dc7e75ea06"
      },
      "execution_count": 29,
      "outputs": [
        {
          "output_type": "execute_result",
          "data": {
            "text/plain": [
              "{'wine': 'frontenac', 'entree': 'fish', 'dessert': 'flan'}"
            ]
          },
          "metadata": {},
          "execution_count": 29
        }
      ]
    },
    {
      "cell_type": "code",
      "source": [
        "def menu(wine, entree, dessert='pudding'):\n",
        "  return {'wine': wine, 'entree': entree, 'dessert': dessert}\n",
        "\n",
        "menu('chardonnay', 'chicken')"
      ],
      "metadata": {
        "colab": {
          "base_uri": "https://localhost:8080/"
        },
        "id": "NbZPiNfh-vJv",
        "outputId": "40565ead-9c22-455e-980c-5c97f006e966"
      },
      "execution_count": 31,
      "outputs": [
        {
          "output_type": "execute_result",
          "data": {
            "text/plain": [
              "{'wine': 'chardonnay', 'entree': 'chicken', 'dessert': 'pudding'}"
            ]
          },
          "metadata": {},
          "execution_count": 31
        }
      ]
    },
    {
      "cell_type": "code",
      "source": [
        "menu('dunkelfelder', 'duck', 'doughnut')"
      ],
      "metadata": {
        "colab": {
          "base_uri": "https://localhost:8080/"
        },
        "id": "WZHEycXH--5C",
        "outputId": "c2f923ed-aca7-4dc2-9d4f-e2c35427048f"
      },
      "execution_count": 32,
      "outputs": [
        {
          "output_type": "execute_result",
          "data": {
            "text/plain": [
              "{'wine': 'dunkelfelder', 'entree': 'duck', 'dessert': 'doughnut'}"
            ]
          },
          "metadata": {},
          "execution_count": 32
        }
      ]
    },
    {
      "cell_type": "code",
      "source": [
        "def echo(anything):\n",
        "  'echo returns its input argument'\n",
        "  return anything\n",
        "\n",
        "def print_if_true(thing, check):\n",
        "  \"\"\"\n",
        "  Prints the first argument if a second argument is true.\n",
        "  The operation is:\n",
        "  1. Check whether the *second* argument is true.\n",
        "  2. If it is, print the *first* argument.\n",
        "  \"\"\"\n",
        "  if check:\n",
        "    print(thing)"
      ],
      "metadata": {
        "id": "XzOHuxiH_McD"
      },
      "execution_count": 35,
      "outputs": []
    },
    {
      "cell_type": "code",
      "source": [
        "help(echo)"
      ],
      "metadata": {
        "colab": {
          "base_uri": "https://localhost:8080/"
        },
        "id": "PMS_DAbw_b2m",
        "outputId": "156954bf-2041-4962-d09d-92b586cc43e1"
      },
      "execution_count": 36,
      "outputs": [
        {
          "output_type": "stream",
          "name": "stdout",
          "text": [
            "Help on function echo in module __main__:\n",
            "\n",
            "echo(anything)\n",
            "    echo returns its input argument\n",
            "\n"
          ]
        }
      ]
    },
    {
      "cell_type": "code",
      "source": [
        "print(echo.__doc__)"
      ],
      "metadata": {
        "colab": {
          "base_uri": "https://localhost:8080/"
        },
        "id": "SH0I0rlK_lMn",
        "outputId": "9fbd6e53-ae87-40b1-955e-b916878e9b8a"
      },
      "execution_count": 37,
      "outputs": [
        {
          "output_type": "stream",
          "name": "stdout",
          "text": [
            "echo returns its input argument\n"
          ]
        }
      ]
    },
    {
      "cell_type": "code",
      "source": [],
      "metadata": {
        "id": "7wB11zZ4_nih"
      },
      "execution_count": null,
      "outputs": []
    }
  ],
  "metadata": {
    "kernelspec": {
      "display_name": "Python 3",
      "language": "python",
      "name": "python3"
    },
    "language_info": {
      "codemirror_mode": {
        "name": "ipython",
        "version": 3
      },
      "file_extension": ".py",
      "mimetype": "text/x-python",
      "name": "python",
      "nbconvert_exporter": "python",
      "pygments_lexer": "ipython3",
      "version": "3.7.6"
    },
    "colab": {
      "provenance": []
    }
  },
  "nbformat": 4,
  "nbformat_minor": 0
}