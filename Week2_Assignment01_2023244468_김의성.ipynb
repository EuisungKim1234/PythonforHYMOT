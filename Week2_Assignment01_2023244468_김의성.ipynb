{
 "cells": [
  {
   "cell_type": "markdown",
   "id": "a3e2d525",
   "metadata": {},
   "source": [
    "##### 2023244468 김의성"
   ]
  },
  {
   "cell_type": "markdown",
   "id": "21c4ea92",
   "metadata": {},
   "source": [
    "<h3 id=\"exercise\">Exercise 1 (Types): Your First Program</h3>"
   ]
  },
  {
   "cell_type": "code",
   "execution_count": 2,
   "id": "57b3c519",
   "metadata": {},
   "outputs": [
    {
     "name": "stdout",
     "output_type": "stream",
     "text": [
      "Hello, world!\n"
     ]
    }
   ],
   "source": [
    "# Write your code below and press Shift+Enter to execute \n",
    "\n",
    "print(\"Hello, world!\")"
   ]
  },
  {
   "cell_type": "code",
   "execution_count": 3,
   "id": "1bc82c32",
   "metadata": {},
   "outputs": [
    {
     "name": "stdout",
     "output_type": "stream",
     "text": [
      "Hello, world!\n"
     ]
    }
   ],
   "source": [
    "# Write your code below and press Shift+Enter to execute \n",
    "\n",
    "print(\"Hello, world!\")\n",
    "# Print the traditional hello world"
   ]
  },
  {
   "cell_type": "markdown",
   "id": "bb6935ec",
   "metadata": {},
   "source": [
    "<h3 id=\"exercise\">Exercise 2 (Types): Get the object type</h3>"
   ]
  },
  {
   "cell_type": "markdown",
   "id": "42d38132",
   "metadata": {},
   "source": [
    "<p>In the code cell below, use the <code>type()</code> function to check the object type of <code>12.0</code>."
   ]
  },
  {
   "cell_type": "code",
   "execution_count": 8,
   "id": "82a4fae2",
   "metadata": {},
   "outputs": [
    {
     "data": {
      "text/plain": [
       "float"
      ]
     },
     "execution_count": 8,
     "metadata": {},
     "output_type": "execute_result"
    }
   ],
   "source": [
    "# Write your code below. Don't forget to press Shift+Enter to execute the cell\n",
    "type(12.0)"
   ]
  },
  {
   "cell_type": "markdown",
   "id": "d74e2b6e",
   "metadata": {},
   "source": [
    "<h3 id=\"exer_type\">Exercise 3 (Types): Types</h3>"
   ]
  },
  {
   "cell_type": "markdown",
   "id": "c26e77e9",
   "metadata": {},
   "source": [
    "<p>What is the data type of the result of: <code>6 / 2</code>?</p>"
   ]
  },
  {
   "cell_type": "code",
   "execution_count": 6,
   "id": "2a19d98b",
   "metadata": {},
   "outputs": [
    {
     "data": {
      "text/plain": [
       "float"
      ]
     },
     "execution_count": 6,
     "metadata": {},
     "output_type": "execute_result"
    }
   ],
   "source": [
    "# Write your code below. Don't forget to press Shift+Enter to execute the cell\n",
    "type(6/2)"
   ]
  },
  {
   "cell_type": "markdown",
   "id": "3c23ca67",
   "metadata": {},
   "source": [
    "<p>What is the type of the result of: <code>6 // 2</code>? (Note the double slash <code>//</code>.)</p>"
   ]
  },
  {
   "cell_type": "code",
   "execution_count": 7,
   "id": "665d4137",
   "metadata": {},
   "outputs": [
    {
     "data": {
      "text/plain": [
       "int"
      ]
     },
     "execution_count": 7,
     "metadata": {},
     "output_type": "execute_result"
    }
   ],
   "source": [
    "# Write your code below. Don't forget to press Shift+Enter to execute the cell\n",
    "type(6//2)"
   ]
  },
  {
   "cell_type": "markdown",
   "id": "211d13a2",
   "metadata": {},
   "source": [
    "<h3 id=\"exer_exp\">Exercise 4 (Types): Expression</h3>"
   ]
  },
  {
   "cell_type": "markdown",
   "id": "dd831ae6",
   "metadata": {},
   "source": [
    "<p>Let's write an expression that calculates how many hours there are in 160 minutes:"
   ]
  },
  {
   "cell_type": "code",
   "execution_count": 10,
   "id": "f9968f04",
   "metadata": {},
   "outputs": [
    {
     "data": {
      "text/plain": [
       "2"
      ]
     },
     "execution_count": 10,
     "metadata": {},
     "output_type": "execute_result"
    }
   ],
   "source": [
    "# Write your code below. Don't forget to press Shift+Enter to execute the cell\n",
    "\n",
    "160 // 60"
   ]
  },
  {
   "cell_type": "markdown",
   "id": "0852077b",
   "metadata": {},
   "source": [
    "<h3 id=\"exer_exp_var\">Exercise 5 (Types): Expression and Variables in Python</h3>"
   ]
  },
  {
   "cell_type": "markdown",
   "id": "ab521c66",
   "metadata": {},
   "source": [
    "<p>What is the value of <code>x</code> where <code>x = 3 + 2 * 2</code></p>"
   ]
  },
  {
   "cell_type": "code",
   "execution_count": 13,
   "id": "0dbfd365",
   "metadata": {},
   "outputs": [
    {
     "name": "stdout",
     "output_type": "stream",
     "text": [
      "x = 7\n"
     ]
    }
   ],
   "source": [
    "x = 3 + 2 * 2\n",
    "print(\"x =\", x)"
   ]
  },
  {
   "cell_type": "markdown",
   "id": "b8442fd3",
   "metadata": {},
   "source": [
    "<p>What is the value of <code>y</code> where <code>y = (3 + 2) * 2</code>?</p>"
   ]
  },
  {
   "cell_type": "code",
   "execution_count": 16,
   "id": "ebad9cfd",
   "metadata": {},
   "outputs": [
    {
     "name": "stdout",
     "output_type": "stream",
     "text": [
      "y = 10\n"
     ]
    }
   ],
   "source": [
    "y = (3 + 2) * 2\n",
    "print(\"y =\", y)"
   ]
  },
  {
   "cell_type": "markdown",
   "id": "e8db5410",
   "metadata": {},
   "source": [
    "<p>What is the value of <code>z</code> where <code>z = x + y</code>?</p>"
   ]
  },
  {
   "cell_type": "code",
   "execution_count": 18,
   "id": "94e7754f",
   "metadata": {},
   "outputs": [
    {
     "name": "stdout",
     "output_type": "stream",
     "text": [
      "z = 17\n"
     ]
    }
   ],
   "source": [
    "z = x + y\n",
    "print(\"z =\", z)"
   ]
  }
 ],
 "metadata": {
  "kernelspec": {
   "display_name": "Python 3",
   "language": "python",
   "name": "python3"
  },
  "language_info": {
   "codemirror_mode": {
    "name": "ipython",
    "version": 3
   },
   "file_extension": ".py",
   "mimetype": "text/x-python",
   "name": "python",
   "nbconvert_exporter": "python",
   "pygments_lexer": "ipython3",
   "version": "3.8.5"
  }
 },
 "nbformat": 4,
 "nbformat_minor": 5
}
