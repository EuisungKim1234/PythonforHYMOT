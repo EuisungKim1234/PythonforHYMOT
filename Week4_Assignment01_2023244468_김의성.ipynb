{
 "cells": [
  {
   "cell_type": "markdown",
   "metadata": {},
   "source": [
    "### 2023244468 김의성"
   ]
  },
  {
   "cell_type": "markdown",
   "metadata": {
    "id": "3IC26T7bIoQK"
   },
   "source": [
    "<h2 id=\"quiz\">Quiz on Conditions</h2>"
   ]
  },
  {
   "cell_type": "markdown",
   "metadata": {
    "id": "mt0VcGaoIoQK"
   },
   "source": [
    "Write an if statement to determine if an album had a rating greater than 8. Test it using the rating for the album <b>“Back in Black”</b> that had a rating of 8.5. If the statement is true print \"This album is Amazing!\""
   ]
  },
  {
   "cell_type": "code",
   "execution_count": 1,
   "metadata": {
    "id": "uM3HRp4iIoQK",
    "outputId": "e8c776bd-00ae-4fe7-ab48-aacfaaa1b6c3"
   },
   "outputs": [
    {
     "name": "stdout",
     "output_type": "stream",
     "text": [
      "This album is Amazing!\n"
     ]
    }
   ],
   "source": [
    "# Write your code below and press Shift+Enter to execute\n",
    "\n",
    "album_rating = {\n",
    "    \"Back in Black\": 8.5\n",
    "}\n",
    "\n",
    "if album_rating[\"Back in Black\"] > 8:\n",
    "    print(\"This album is Amazing!\")"
   ]
  },
  {
   "cell_type": "markdown",
   "metadata": {
    "id": "ZNLbLpM8IoQO"
   },
   "source": [
    "<hr>"
   ]
  },
  {
   "cell_type": "markdown",
   "metadata": {
    "id": "PtR5F1i3IoQO"
   },
   "source": [
    "Write an if-else statement that performs the following. If the rating is larger then eight print “this album is amazing”. If the rating is less than or equal to 8 print “this album is ok”."
   ]
  },
  {
   "cell_type": "code",
   "execution_count": 12,
   "metadata": {
    "id": "s4NbZlNLIoQO",
    "outputId": "798bff22-e744-4d63-d211-9c849c529e78"
   },
   "outputs": [
    {
     "name": "stdout",
     "output_type": "stream",
     "text": [
      "Back in Black -> This album is Amazing\n",
      "Thriller -> This album is ok\n"
     ]
    }
   ],
   "source": [
    "# Write your code below and press Shift+Enter to execute\n",
    "\n",
    "album_rating['Thriller'] = 8\n",
    "\n",
    "aa = [print(album,\"-> This album is Amazing\") if rating>8 else print(album, \"-> This album is ok\") for album, rating in album_rating.items()]\n",
    "\n",
    "del aa"
   ]
  },
  {
   "cell_type": "markdown",
   "metadata": {
    "id": "Ickq5nDuIoQR"
   },
   "source": [
    "<hr>"
   ]
  },
  {
   "cell_type": "markdown",
   "metadata": {
    "id": "xlvACVa3IoQS"
   },
   "source": [
    "Write an if statement to determine if an album came out before 1980 or in the years: 1991 or 1993. If the condition is true print out the year the album came out."
   ]
  },
  {
   "cell_type": "code",
   "execution_count": 17,
   "metadata": {
    "id": "w0ys9FArIoQS",
    "outputId": "57c1b839-069f-497a-b05a-d89b4715f6f1"
   },
   "outputs": [
    {
     "name": "stdout",
     "output_type": "stream",
     "text": [
      "This album came out at 1991\n"
     ]
    }
   ],
   "source": [
    "# Write your code below and press Shift+Enter to execute\n",
    "\n",
    "album = {\n",
    "    \"Back in Black\": {\n",
    "        \"rating\": 8,\n",
    "        \"year\": 1991\n",
    "    }\n",
    "}\n",
    "\n",
    "if album[\"Back in Black\"][\"year\"] < 1980 or album[\"Back in Black\"][\"year\"] == 1991 or album[\"Back in Black\"][\"year\"] == 1993:\n",
    "    print(\"This album came out at\", album[\"Back in Black\"][\"year\"])\n"
   ]
  },
  {
   "cell_type": "markdown",
   "metadata": {
    "id": "xWlHxzXyIoQW"
   },
   "source": [
    "<hr>"
   ]
  }
 ],
 "metadata": {
  "colab": {
   "provenance": []
  },
  "kernelspec": {
   "display_name": "Python 3",
   "language": "python",
   "name": "python3"
  },
  "language_info": {
   "codemirror_mode": {
    "name": "ipython",
    "version": 3
   },
   "file_extension": ".py",
   "mimetype": "text/x-python",
   "name": "python",
   "nbconvert_exporter": "python",
   "pygments_lexer": "ipython3",
   "version": "3.8.5"
  }
 },
 "nbformat": 4,
 "nbformat_minor": 1
}
