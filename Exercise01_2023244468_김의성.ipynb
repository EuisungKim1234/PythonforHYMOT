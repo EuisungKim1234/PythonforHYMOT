{
 "cells": [
  {
   "cell_type": "markdown",
   "id": "c5eb61aa",
   "metadata": {},
   "source": [
    "<h3 id=\"exercise\">Exercise 1 (Types): Your First Program</h3>"
   ]
  },
  {
   "cell_type": "markdown",
   "id": "234124f7",
   "metadata": {},
   "source": [
    "##### 2023244468 김의성"
   ]
  },
  {
   "cell_type": "code",
   "execution_count": 2,
   "id": "d70f384b",
   "metadata": {},
   "outputs": [
    {
     "name": "stdout",
     "output_type": "stream",
     "text": [
      "Hello, world!\n"
     ]
    }
   ],
   "source": [
    "# Write your code below and press Shift+Enter to execute \n",
    "\n",
    "print(\"Hello, world!\")"
   ]
  },
  {
   "cell_type": "code",
   "execution_count": 3,
   "id": "0d65c10b",
   "metadata": {},
   "outputs": [
    {
     "name": "stdout",
     "output_type": "stream",
     "text": [
      "Hello, world!\n"
     ]
    }
   ],
   "source": [
    "# Write your code below and press Shift+Enter to execute \n",
    "\n",
    "print(\"Hello, world!\")\n",
    "# Print the traditional hello world"
   ]
  }
 ],
 "metadata": {
  "kernelspec": {
   "display_name": "Python 3",
   "language": "python",
   "name": "python3"
  },
  "language_info": {
   "codemirror_mode": {
    "name": "ipython",
    "version": 3
   },
   "file_extension": ".py",
   "mimetype": "text/x-python",
   "name": "python",
   "nbconvert_exporter": "python",
   "pygments_lexer": "ipython3",
   "version": "3.8.5"
  }
 },
 "nbformat": 4,
 "nbformat_minor": 5
}
